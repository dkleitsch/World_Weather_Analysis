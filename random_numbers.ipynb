{
 "cells": [
  {
   "cell_type": "code",
   "execution_count": 1,
   "id": "adf29e26",
   "metadata": {},
   "outputs": [],
   "source": [
    "# Import the random module\n",
    "import random"
   ]
  },
  {
   "cell_type": "code",
   "execution_count": 2,
   "id": "3aaa426c",
   "metadata": {},
   "outputs": [
    {
     "data": {
      "text/plain": [
       "-58"
      ]
     },
     "execution_count": 2,
     "metadata": {},
     "output_type": "execute_result"
    }
   ],
   "source": [
    "random.randint(-90, 90)"
   ]
  },
  {
   "cell_type": "code",
   "execution_count": 3,
   "id": "8eed89a9",
   "metadata": {},
   "outputs": [
    {
     "data": {
      "text/plain": [
       "0.036101930263617965"
      ]
     },
     "execution_count": 3,
     "metadata": {},
     "output_type": "execute_result"
    }
   ],
   "source": [
    "random.random()"
   ]
  },
  {
   "cell_type": "code",
   "execution_count": 4,
   "id": "cc86e2e2",
   "metadata": {},
   "outputs": [
    {
     "data": {
      "text/plain": [
       "-52.47009058112764"
      ]
     },
     "execution_count": 4,
     "metadata": {},
     "output_type": "execute_result"
    }
   ],
   "source": [
    "random_number = random.randint(-90, 89) + random.random()\n",
    "random_number"
   ]
  },
  {
   "cell_type": "code",
   "execution_count": 5,
   "id": "2c387f4a",
   "metadata": {},
   "outputs": [
    {
     "data": {
      "text/plain": [
       "-66"
      ]
     },
     "execution_count": 5,
     "metadata": {},
     "output_type": "execute_result"
    }
   ],
   "source": [
    "random.randrange(-90, 90, step=3)"
   ]
  },
  {
   "cell_type": "code",
   "execution_count": 6,
   "id": "623a9f51",
   "metadata": {},
   "outputs": [],
   "source": [
    "# Import the NumPy Module\n",
    "import numpy as np"
   ]
  },
  {
   "cell_type": "code",
   "execution_count": 7,
   "id": "53430188",
   "metadata": {},
   "outputs": [
    {
     "data": {
      "text/plain": [
       "33.9113369056718"
      ]
     },
     "execution_count": 7,
     "metadata": {},
     "output_type": "execute_result"
    }
   ],
   "source": [
    "np.random.uniform(-90.000, 90.000)"
   ]
  },
  {
   "cell_type": "code",
   "execution_count": 8,
   "id": "8caaaddf",
   "metadata": {},
   "outputs": [
    {
     "data": {
      "text/plain": [
       "array([-44.03156677,  -6.50059455, -63.67504991,  10.0164539 ,\n",
       "       -56.84534837,  -0.16690663,  71.75949421, -31.34290497,\n",
       "         7.3278367 ,  87.89570965,  14.68191045, -55.90718884,\n",
       "       -31.44059816,  72.62091938,  82.99810293,  78.15481   ,\n",
       "        57.29876527, -71.98877666, -43.54546899,  10.96888879,\n",
       "       -11.97910105, -17.51823647,  42.19374114, -75.36610378,\n",
       "        -7.67088172,  68.97709734,  -7.18460584,  73.72582574,\n",
       "       -48.13075191, -77.038915  , -19.82651207, -48.52865445,\n",
       "        60.69018495, -72.39326286,  75.45582785,  17.4723364 ,\n",
       "       -87.56141685,  65.1162395 , -47.61917777,  22.71842234,\n",
       "        53.00606276, -63.76090621, -30.71503448,   2.32108699,\n",
       "       -75.70216349,  42.74215372, -39.07441553,  11.45335187,\n",
       "       -46.77438863, -84.11895872])"
      ]
     },
     "execution_count": 8,
     "metadata": {},
     "output_type": "execute_result"
    }
   ],
   "source": [
    "np.random.uniform(-90.000, 90.000, size=50)"
   ]
  },
  {
   "cell_type": "code",
   "execution_count": 9,
   "id": "56fbfe07",
   "metadata": {},
   "outputs": [],
   "source": [
    "# Import timeit\n",
    "import timeit\n"
   ]
  },
  {
   "cell_type": "code",
   "execution_count": 10,
   "id": "806a1231",
   "metadata": {},
   "outputs": [
    {
     "name": "stdout",
     "output_type": "stream",
     "text": [
      "32.7 µs ± 433 ns per loop (mean ± std. dev. of 7 runs, 10000 loops each)\n"
     ]
    }
   ],
   "source": [
    "%timeit np.random.uniform(-90.000, 90.000, size=1500)"
   ]
  },
  {
   "cell_type": "code",
   "execution_count": 11,
   "id": "03a3091f",
   "metadata": {},
   "outputs": [
    {
     "name": "stdout",
     "output_type": "stream",
     "text": [
      "3.77 ms ± 28.6 µs per loop (mean ± std. dev. of 7 runs, 100 loops each)\n"
     ]
    }
   ],
   "source": [
    "def latitudes(size):\n",
    "    latitudes = []\n",
    "    x = 0\n",
    "    while x < (size):\n",
    "        random_lat = random.randint(-90, 90) + random.random()\n",
    "        latitudes.append(random_lat)\n",
    "        x += 1\n",
    "    return latitudes\n",
    "# Call the function with 1500.\n",
    "%timeit latitudes(1500)"
   ]
  },
  {
   "cell_type": "code",
   "execution_count": 17,
   "id": "7c051105",
   "metadata": {},
   "outputs": [
    {
     "name": "stdout",
     "output_type": "stream",
     "text": [
      "1500\n"
     ]
    }
   ],
   "source": [
    "latitudes = []\n",
    "x = 0\n",
    "while x < 1500:\n",
    "    random_lat = random.randint(-90, 90) + random.random()\n",
    "    latitudes.append(random_lat)\n",
    "    x += 1\n",
    "    \n",
    "print(len(latitudes))"
   ]
  },
  {
   "cell_type": "code",
   "execution_count": null,
   "id": "c3b29798",
   "metadata": {},
   "outputs": [],
   "source": []
  }
 ],
 "metadata": {
  "kernelspec": {
   "display_name": "PythonData",
   "language": "python",
   "name": "pythondata"
  },
  "language_info": {
   "codemirror_mode": {
    "name": "ipython",
    "version": 3
   },
   "file_extension": ".py",
   "mimetype": "text/x-python",
   "name": "python",
   "nbconvert_exporter": "python",
   "pygments_lexer": "ipython3",
   "version": "3.7.11"
  }
 },
 "nbformat": 4,
 "nbformat_minor": 5
}
